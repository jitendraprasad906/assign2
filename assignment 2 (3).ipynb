{
 "cells": [
  {
   "cell_type": "code",
   "execution_count": 13,
   "id": "fc5f7ddb-db1a-431f-a6bb-7ea019bcb069",
   "metadata": {},
   "outputs": [
    {
     "name": "stdout",
     "output_type": "stream",
     "text": [
      "25\n"
     ]
    }
   ],
   "source": [
    "#Calculate the sum, difference, product, and quotient of two numbers.\n",
    "#addition\n",
    "a=10\n",
    "b=15\n",
    "add=a+b\n",
    "print(add) "
   ]
  },
  {
   "cell_type": "code",
   "execution_count": 14,
   "id": "fc20ad59-91bf-4cd9-ac4c-62a1c53c6919",
   "metadata": {},
   "outputs": [
    {
     "name": "stdout",
     "output_type": "stream",
     "text": [
      "1\n"
     ]
    }
   ],
   "source": [
    "#substraction\n",
    "a=18\n",
    "b=17\n",
    "subs=a-b\n",
    "print(subs) "
   ]
  },
  {
   "cell_type": "code",
   "execution_count": 15,
   "id": "6a83b788-2c7e-480b-beda-a2d7d97a26e8",
   "metadata": {},
   "outputs": [
    {
     "name": "stdout",
     "output_type": "stream",
     "text": [
      "306\n"
     ]
    }
   ],
   "source": [
    "#multiplication\n",
    "a=18\n",
    "b=17\n",
    "multi=a*b\n",
    "print(multi)"
   ]
  },
  {
   "cell_type": "code",
   "execution_count": 16,
   "id": "7bd862b7-bf31-4c96-be45-05715d34c883",
   "metadata": {},
   "outputs": [
    {
     "name": "stdout",
     "output_type": "stream",
     "text": [
      "9.0\n"
     ]
    }
   ],
   "source": [
    "#divide\n",
    "a=18\n",
    "b=2 \n",
    "div=a/b\n",
    "print(div) "
   ]
  },
  {
   "cell_type": "code",
   "execution_count": 17,
   "id": "5416d7f4-a5b2-43cd-b125-f7038e5720fc",
   "metadata": {},
   "outputs": [
    {
     "name": "stdout",
     "output_type": "stream",
     "text": [
      "11\n"
     ]
    }
   ],
   "source": [
    "#assignment operations\n",
    "i=9\n",
    "i+=2\n",
    "print(i) "
   ]
  },
  {
   "cell_type": "code",
   "execution_count": 18,
   "id": "6d12fa58-720e-4004-a88d-1bf6d1034839",
   "metadata": {},
   "outputs": [
    {
     "name": "stdout",
     "output_type": "stream",
     "text": [
      "7\n"
     ]
    }
   ],
   "source": [
    "i=9\n",
    "i-=2\n",
    "print(i) "
   ]
  },
  {
   "cell_type": "code",
   "execution_count": 19,
   "id": "83f2d675-ed9a-4121-886b-062782046c25",
   "metadata": {},
   "outputs": [
    {
     "name": "stdout",
     "output_type": "stream",
     "text": [
      "18\n"
     ]
    }
   ],
   "source": [
    "i=9\n",
    "i*=2\n",
    "print(i) "
   ]
  },
  {
   "cell_type": "code",
   "execution_count": 20,
   "id": "8ac14d9c-dae3-4223-b472-428763948df4",
   "metadata": {},
   "outputs": [
    {
     "name": "stdout",
     "output_type": "stream",
     "text": [
      "4.5\n"
     ]
    }
   ],
   "source": [
    "i=9\n",
    "i/=2\n",
    "print(i) "
   ]
  },
  {
   "cell_type": "code",
   "execution_count": 23,
   "id": "232fe8ea-8656-4764-9af2-cd286adec606",
   "metadata": {},
   "outputs": [
    {
     "name": "stdout",
     "output_type": "stream",
     "text": [
      "6\n"
     ]
    }
   ],
   "source": [
    "a = 3\n",
    "b = 5\n",
    "\n",
    "# a = a ^ b \n",
    "a ^= b  \n",
    "print(a)  \n"
   ]
  },
  {
   "cell_type": "code",
   "execution_count": 24,
   "id": "ef72562a-c3f0-4774-9758-61e698fd8169",
   "metadata": {},
   "outputs": [
    {
     "name": "stdout",
     "output_type": "stream",
     "text": [
      "0\n"
     ]
    }
   ],
   "source": [
    "a = 30\n",
    "b = 5\n",
    "\n",
    "# a = a >> b \n",
    "a >>= b \n",
    "\n",
    "# Output \n",
    "print(a)\n"
   ]
  },
  {
   "cell_type": "code",
   "execution_count": 25,
   "id": "5c27c057-5075-4754-bdab-14c9d5e4f6d8",
   "metadata": {},
   "outputs": [
    {
     "name": "stdout",
     "output_type": "stream",
     "text": [
      "960\n"
     ]
    }
   ],
   "source": [
    "a = 30\n",
    "b = 5\n",
    "\n",
    "a <<= b \n",
    "\n",
    "# Output \n",
    "print(a) "
   ]
  },
  {
   "cell_type": "code",
   "execution_count": 52,
   "id": "6a9ec683-d37f-4197-8033-93ea76b10558",
   "metadata": {},
   "outputs": [
    {
     "name": "stdin",
     "output_type": "stream",
     "text": [
      "Enter the first number:  2\n",
      "Enter the second number:  3\n"
     ]
    },
    {
     "name": "stdout",
     "output_type": "stream",
     "text": [
      "Your input is not equal.\n"
     ]
    }
   ],
   "source": [
    "#comparing two numbers\n",
    "a = input(\"Enter the first number: \")\n",
    "b = input(\"Enter the second number: \") \n",
    "if a == b:\n",
    "    print (\"Both inputs are equal\")  \n",
    "else:\n",
    "    print (\"Your input is not equal.\") \n",
    "\n",
    " \n"
   ]
  },
  {
   "cell_type": "code",
   "execution_count": 56,
   "id": "6c0ebecb-88c5-46e9-82ac-c4c204e92d30",
   "metadata": {},
   "outputs": [
    {
     "name": "stdout",
     "output_type": "stream",
     "text": [
      "The numbers are greater than 0\n",
      "Atleast one number is not greater than 0\n"
     ]
    }
   ],
   "source": [
    "# Python program to demonstrate \n",
    "# logical and operator \n",
    "a = 10 \n",
    "b = 10 \n",
    "c = -10\n",
    "if a > 0 and b > 0: \n",
    "\tprint(\"The numbers are greater than 0\") \n",
    "if a > 0 and b > 0 and c > 0: \n",
    "\tprint(\"The numbers are greater than 0\") \n",
    "else: \n",
    "\tprint(\"Atleast one number is not greater than 0\")\n"
   ]
  },
  {
   "cell_type": "code",
   "execution_count": 59,
   "id": "4fd55608-3ca5-48be-968a-157986dfa25b",
   "metadata": {},
   "outputs": [
    {
     "name": "stdout",
     "output_type": "stream",
     "text": [
      "Atleast one number has boolean value as True\n"
     ]
    }
   ],
   "source": [
    "# Python program to demonstrate \n",
    "# logical and operator \n",
    "a = 10\n",
    "b = 12\n",
    "c = 0\n",
    "if a or b or c: \n",
    "\tprint(\"Atleast one number has boolean value as True\") \n",
    "else: \n",
    "\tprint(\"All the numbers have boolean value as False\")\n"
   ]
  },
  {
   "cell_type": "code",
   "execution_count": 60,
   "id": "b0edfabd-6b6d-4a70-8e40-0a3b10caeea9",
   "metadata": {},
   "outputs": [
    {
     "name": "stdout",
     "output_type": "stream",
     "text": [
      "Either of the number is greater than 0\n",
      "No number is greater than 0\n"
     ]
    }
   ],
   "source": [
    "# Python program to demonstrate \n",
    "# logical or operator \n",
    "a = 10\n",
    "b = -10\n",
    "c = 0\n",
    "if a > 0 or b > 0: \n",
    "\tprint(\"Either of the number is greater than 0\") \n",
    "else: \n",
    "\tprint(\"No number is greater than 0\") \n",
    "if b > 0 or c > 0: \n",
    "\tprint(\"Either of the number is greater than 0\") \n",
    "else: \n",
    "\tprint(\"No number is greater than 0\")\n",
    "\n"
   ]
  },
  {
   "cell_type": "code",
   "execution_count": 61,
   "id": "b5bb0f54-f34d-427b-a7be-11f7176f8c3b",
   "metadata": {},
   "outputs": [
    {
     "name": "stdout",
     "output_type": "stream",
     "text": [
      "10 is divisible by either 3 or 5\n"
     ]
    }
   ],
   "source": [
    "# Python program to demonstrate \n",
    "# logical not operator \n",
    "a = 10\n",
    "\n",
    "if not a: \n",
    "\tprint(\"Boolean value of a is True\") \n",
    "if not (a%3 == 0 or a%5 == 0): \n",
    "\tprint(\"10 is not divisible by either 3 or 5\") \n",
    "else: \n",
    "\tprint(\"10 is divisible by either 3 or 5\")\n"
   ]
  },
  {
   "cell_type": "code",
   "execution_count": 63,
   "id": "e764fa19-ad8b-4220-9111-cfa58ac21a9f",
   "metadata": {},
   "outputs": [
    {
     "name": "stdout",
     "output_type": "stream",
     "text": [
      "139872166360064\n",
      "139872166035200\n",
      "139872166375424\n"
     ]
    }
   ],
   "source": [
    "#check the identity of varible\n",
    "tuple1 = (1, 2, 3)\n",
    "tuple2 = (3, 2, 1)\n",
    "tuple3 = (1, 2, 3)\n",
    "\n",
    "print(id(tuple1)) \n",
    "print(id(tuple2)) \n",
    "print(id(tuple3)) \n"
   ]
  },
  {
   "cell_type": "code",
   "execution_count": 67,
   "id": "8010ce00-5dd3-4ee9-a9fc-7179ac90f8d8",
   "metadata": {},
   "outputs": [
    {
     "name": "stdout",
     "output_type": "stream",
     "text": [
      "0\n"
     ]
    }
   ],
   "source": [
    "#bitwise operator\n",
    "a = 10 \n",
    "b = 4 \n",
    "print( a&b) "
   ]
  },
  {
   "cell_type": "code",
   "execution_count": 68,
   "id": "612d23c3-c24c-48fb-9e61-a503d6d4ed94",
   "metadata": {},
   "outputs": [
    {
     "name": "stdout",
     "output_type": "stream",
     "text": [
      "14\n"
     ]
    }
   ],
   "source": [
    "a = 10 \n",
    "b = 4 \n",
    "print( a|b) "
   ]
  },
  {
   "cell_type": "code",
   "execution_count": 72,
   "id": "0b4e35c6-c4aa-4ea3-bdf7-ccc4d35a844f",
   "metadata": {},
   "outputs": [
    {
     "name": "stdout",
     "output_type": "stream",
     "text": [
      "-5\n"
     ]
    }
   ],
   "source": [
    "b = 4 \n",
    "print(~b) "
   ]
  },
  {
   "cell_type": "code",
   "execution_count": 73,
   "id": "33b18322-6bd5-4991-8341-d05626ebf8b4",
   "metadata": {},
   "outputs": [
    {
     "name": "stdout",
     "output_type": "stream",
     "text": [
      "14\n"
     ]
    }
   ],
   "source": [
    "a = 10 \n",
    "b = 4 \n",
    "print( a^b) "
   ]
  },
  {
   "cell_type": "code",
   "execution_count": 77,
   "id": "9b0bfdc2-5235-46b5-94cc-0c077de9a62d",
   "metadata": {},
   "outputs": [
    {
     "name": "stdout",
     "output_type": "stream",
     "text": [
      "-5\n"
     ]
    }
   ],
   "source": [
    "# uniary operator \n",
    "a = 5\n",
    "a = - a\n",
    "print(  a) "
   ]
  },
  {
   "cell_type": "code",
   "execution_count": 1,
   "id": "99e7e9bf-88d0-4536-aa7a-81c7285b5b50",
   "metadata": {},
   "outputs": [
    {
     "name": "stdout",
     "output_type": "stream",
     "text": [
      "b is greater than a\n"
     ]
    }
   ],
   "source": [
    "#ternary operator\n",
    "a, b = 10, 20\n",
    "\n",
    " \n",
    "\n",
    "if a != b:\n",
    "\n",
    "    if a > b:\n",
    "\n",
    "        print(\"a is greater than b\")\n",
    "\n",
    "    else:\n",
    "\n",
    "        print(\"b is greater than a\")\n",
    "\n",
    "else:\n",
    "\n",
    "    print(\"Both a and b are equal\") "
   ]
  }
 ],
 "metadata": {
  "kernelspec": {
   "display_name": "Python 3 (ipykernel)",
   "language": "python",
   "name": "python3"
  },
  "language_info": {
   "codemirror_mode": {
    "name": "ipython",
    "version": 3
   },
   "file_extension": ".py",
   "mimetype": "text/x-python",
   "name": "python",
   "nbconvert_exporter": "python",
   "pygments_lexer": "ipython3",
   "version": "3.10.8"
  }
 },
 "nbformat": 4,
 "nbformat_minor": 5
}
